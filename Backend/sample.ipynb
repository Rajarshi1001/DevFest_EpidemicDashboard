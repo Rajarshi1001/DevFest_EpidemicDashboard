{
 "cells": [
  {
   "cell_type": "code",
   "execution_count": 115,
   "source": [
    "import json\n",
    "import requests\n",
    "import datetime"
   ],
   "outputs": [],
   "metadata": {}
  },
  {
   "cell_type": "code",
   "execution_count": 116,
   "source": [
    "base_url = \"https://api.covid19api.com/\"\n",
    "countries_url = 'https://api.covid19api.com/countries'"
   ],
   "outputs": [],
   "metadata": {}
  },
  {
   "cell_type": "code",
   "execution_count": 118,
   "source": [
    "\"\"\"\n",
    "For getting all country parameters\n",
    "\"\"\"\n",
    "country_url_params=[]\n",
    "countries = requests.get(countries_url).json()\n",
    "for c in countries:\n",
    "    name = c[\"Slug\"]\n",
    "    country_url_params.append(name)\n",
    "\n",
    "country_url_params"
   ],
   "outputs": [
    {
     "output_type": "execute_result",
     "data": {
      "text/plain": [
       "['belize',\n",
       " 'cuba',\n",
       " 'haiti',\n",
       " 'romania',\n",
       " 'estonia',\n",
       " 'dominican-republic',\n",
       " 'france',\n",
       " 'solomon-islands',\n",
       " 'armenia',\n",
       " 'congo-kinshasa',\n",
       " 'peru',\n",
       " 'serbia',\n",
       " 'south-georgia-and-the-south-sandwich-islands',\n",
       " 'virgin-islands',\n",
       " 'british-indian-ocean-territory',\n",
       " 'cyprus',\n",
       " 'libya',\n",
       " 'saint-barthélemy',\n",
       " 'brunei',\n",
       " 'mexico',\n",
       " 'thailand',\n",
       " 'antigua-and-barbuda',\n",
       " 'mozambique',\n",
       " 'nauru',\n",
       " 'kosovo',\n",
       " 'united-arab-emirates',\n",
       " 'united-kingdom',\n",
       " 'vietnam',\n",
       " 'congo-brazzaville',\n",
       " 'hungary',\n",
       " 'ala-aland-islands',\n",
       " 'angola',\n",
       " 'bahamas',\n",
       " 'chile',\n",
       " 'gabon',\n",
       " 'kyrgyzstan',\n",
       " 'afghanistan',\n",
       " 'saudi-arabia',\n",
       " 'djibouti',\n",
       " 'jordan',\n",
       " 'benin',\n",
       " 'el-salvador',\n",
       " 'french-polynesia',\n",
       " 'mali',\n",
       " 'niger',\n",
       " 'argentina',\n",
       " 'bermuda',\n",
       " 'cote-divoire',\n",
       " 'kenya',\n",
       " 'liechtenstein',\n",
       " 'madagascar',\n",
       " 'bangladesh',\n",
       " 'colombia',\n",
       " 'lithuania',\n",
       " 'marshall-islands',\n",
       " 'rwanda',\n",
       " 'china',\n",
       " 'qatar',\n",
       " 'ghana',\n",
       " 'india',\n",
       " 'paraguay',\n",
       " 'yemen',\n",
       " 'andorra',\n",
       " 'antarctica',\n",
       " 'uganda',\n",
       " 'guam',\n",
       " 'myanmar',\n",
       " 'saint-lucia',\n",
       " 'jamaica',\n",
       " 'italy',\n",
       " 'canada',\n",
       " 'cayman-islands',\n",
       " 'latvia',\n",
       " 'macedonia',\n",
       " 'somalia',\n",
       " 'united-states',\n",
       " 'bahrain',\n",
       " 'guinea-bissau',\n",
       " 'french-guiana',\n",
       " 'guinea',\n",
       " 'pakistan',\n",
       " 'syria',\n",
       " 'timor-leste',\n",
       " 'bhutan',\n",
       " 'pitcairn',\n",
       " 'cocos-keeling-islands',\n",
       " 'liberia',\n",
       " 'malawi',\n",
       " 'cambodia',\n",
       " 'lesotho',\n",
       " 'nigeria',\n",
       " 'tuvalu',\n",
       " 'belgium',\n",
       " 'isle-of-man',\n",
       " 'samoa',\n",
       " 'tanzania',\n",
       " 'uzbekistan',\n",
       " 'gibraltar',\n",
       " 'mongolia',\n",
       " 'sri-lanka',\n",
       " 'australia',\n",
       " 'croatia',\n",
       " 'saint-martin-french-part',\n",
       " 'botswana',\n",
       " 'germany',\n",
       " 'ethiopia',\n",
       " 'grenada',\n",
       " 'malta',\n",
       " 'russia',\n",
       " 'south-africa',\n",
       " 'vanuatu',\n",
       " 'anguilla',\n",
       " 'zimbabwe',\n",
       " 'egypt',\n",
       " 'honduras',\n",
       " 'macao-sar-china',\n",
       " 'belarus',\n",
       " 'czech-republic',\n",
       " 'nepal',\n",
       " 'cape-verde',\n",
       " 'guatemala',\n",
       " 'israel',\n",
       " 'tonga',\n",
       " 'turkey',\n",
       " 'malaysia',\n",
       " 'eritrea',\n",
       " 'guadeloupe',\n",
       " 'costa-rica',\n",
       " 'korea-south',\n",
       " 'iraq',\n",
       " 'mauritius',\n",
       " 'korea-north',\n",
       " 'mayotte',\n",
       " 'albania',\n",
       " 'philippines',\n",
       " 'western-sahara',\n",
       " 'namibia',\n",
       " 'norfolk-island',\n",
       " 'palau',\n",
       " 'palestine',\n",
       " 'swaziland',\n",
       " 'taiwan',\n",
       " 'fiji',\n",
       " 'mauritania',\n",
       " 'turks-and-caicos-islands',\n",
       " 'moldova',\n",
       " 'panama',\n",
       " 'christmas-island',\n",
       " 'french-southern-territories',\n",
       " 'northern-mariana-islands',\n",
       " 'south-sudan',\n",
       " 'venezuela',\n",
       " 'denmark',\n",
       " 'iceland',\n",
       " 'luxembourg',\n",
       " 'maldives',\n",
       " 'zambia',\n",
       " 'burkina-faso',\n",
       " 'niue',\n",
       " 'portugal',\n",
       " 'sweden',\n",
       " 'burundi',\n",
       " 'jersey',\n",
       " 'greece',\n",
       " 'greenland',\n",
       " 'netherlands',\n",
       " 'wallis-and-futuna-islands',\n",
       " 'falkland-islands-malvinas',\n",
       " 'brazil',\n",
       " 'puerto-rico',\n",
       " 'lao-pdr',\n",
       " 'martinique',\n",
       " 'comoros',\n",
       " 'ecuador',\n",
       " 'kazakhstan',\n",
       " 'papua-new-guinea',\n",
       " 'saint-helena',\n",
       " 'san-marino',\n",
       " 'barbados',\n",
       " 'gambia',\n",
       " 'spain',\n",
       " 'bosnia-and-herzegovina',\n",
       " 'senegal',\n",
       " 'oman',\n",
       " 'poland',\n",
       " 'saint-pierre-and-miquelon',\n",
       " 'bulgaria',\n",
       " 'central-african-republic',\n",
       " 'indonesia',\n",
       " 'micronesia',\n",
       " 'suriname',\n",
       " 'singapore',\n",
       " 'svalbard-and-jan-mayen-islands',\n",
       " 'austria',\n",
       " 'slovenia',\n",
       " 'sudan',\n",
       " 'tokelau',\n",
       " 'guernsey',\n",
       " 'hong-kong-sar-china',\n",
       " 'montenegro',\n",
       " 'réunion',\n",
       " 'turkmenistan',\n",
       " 'bolivia',\n",
       " 'cameroon',\n",
       " 'cook-islands',\n",
       " 'equatorial-guinea',\n",
       " 'finland',\n",
       " 'lebanon',\n",
       " 'morocco',\n",
       " 'algeria',\n",
       " 'british-virgin-islands',\n",
       " 'trinidad-and-tobago',\n",
       " 'kuwait',\n",
       " 'seychelles',\n",
       " 'sierra-leone',\n",
       " 'ukraine',\n",
       " 'us-minor-outlying-islands',\n",
       " 'faroe-islands',\n",
       " 'holy-see-vatican-city-state',\n",
       " 'new-caledonia',\n",
       " 'slovakia',\n",
       " 'azerbaijan',\n",
       " 'guyana',\n",
       " 'monaco',\n",
       " 'iran',\n",
       " 'new-zealand',\n",
       " 'chad',\n",
       " 'saint-vincent-and-the-grenadines',\n",
       " 'aruba',\n",
       " 'georgia',\n",
       " 'heard-and-mcdonald-islands',\n",
       " 'kiribati',\n",
       " 'bouvet-island',\n",
       " 'dominica',\n",
       " 'tunisia',\n",
       " 'ireland',\n",
       " 'netherlands-antilles',\n",
       " 'montserrat',\n",
       " 'tajikistan',\n",
       " 'togo',\n",
       " 'american-samoa',\n",
       " 'japan',\n",
       " 'norway',\n",
       " 'saint-kitts-and-nevis',\n",
       " 'sao-tome-and-principe',\n",
       " 'switzerland',\n",
       " 'uruguay',\n",
       " 'nicaragua']"
      ]
     },
     "metadata": {},
     "execution_count": 118
    }
   ],
   "metadata": {}
  },
  {
   "cell_type": "code",
   "execution_count": 127,
   "source": [
    "url = f\"https://api.covid19api.com/country/{country}\"\n",
    "def country_cases(country, url):\n",
    "    \"\"\"\n",
    "    Creating json file for a specific country with timestamps\n",
    "    \"\"\"\n",
    "    summary_url_json = requests.get(url).json()\n",
    "    with open(f\"\", \"w\") as file:\n",
    "        json.dump(summary_url_json, file)\n",
    "        \n",
    "for index, country in enumerate(country_url_params):\n",
    "    if index < 6:\n",
    "        country_cases(country,url)       "
   ],
   "outputs": [
    {
     "output_type": "error",
     "ename": "FileNotFoundError",
     "evalue": "[Errno 2] No such file or directory: './data/countries/belize.json'",
     "traceback": [
      "\u001b[0;31m---------------------------------------------------------------------------\u001b[0m",
      "\u001b[0;31mFileNotFoundError\u001b[0m                         Traceback (most recent call last)",
      "\u001b[0;32m<ipython-input-127-ea90c324e1cd>\u001b[0m in \u001b[0;36m<module>\u001b[0;34m\u001b[0m\n\u001b[1;32m     10\u001b[0m \u001b[0;32mfor\u001b[0m \u001b[0mindex\u001b[0m\u001b[0;34m,\u001b[0m \u001b[0mcountry\u001b[0m \u001b[0;32min\u001b[0m \u001b[0menumerate\u001b[0m\u001b[0;34m(\u001b[0m\u001b[0mcountry_url_params\u001b[0m\u001b[0;34m)\u001b[0m\u001b[0;34m:\u001b[0m\u001b[0;34m\u001b[0m\u001b[0;34m\u001b[0m\u001b[0m\n\u001b[1;32m     11\u001b[0m     \u001b[0;32mif\u001b[0m \u001b[0mindex\u001b[0m \u001b[0;34m<\u001b[0m \u001b[0;36m6\u001b[0m\u001b[0;34m:\u001b[0m\u001b[0;34m\u001b[0m\u001b[0;34m\u001b[0m\u001b[0m\n\u001b[0;32m---> 12\u001b[0;31m         \u001b[0mcountry_cases\u001b[0m\u001b[0;34m(\u001b[0m\u001b[0mcountry\u001b[0m\u001b[0;34m,\u001b[0m\u001b[0murl\u001b[0m\u001b[0;34m)\u001b[0m\u001b[0;34m\u001b[0m\u001b[0;34m\u001b[0m\u001b[0m\n\u001b[0m",
      "\u001b[0;32m<ipython-input-127-ea90c324e1cd>\u001b[0m in \u001b[0;36mcountry_cases\u001b[0;34m(country, url)\u001b[0m\n\u001b[1;32m      5\u001b[0m     \"\"\"\n\u001b[1;32m      6\u001b[0m     \u001b[0msummary_url_json\u001b[0m \u001b[0;34m=\u001b[0m \u001b[0mrequests\u001b[0m\u001b[0;34m.\u001b[0m\u001b[0mget\u001b[0m\u001b[0;34m(\u001b[0m\u001b[0murl\u001b[0m\u001b[0;34m)\u001b[0m\u001b[0;34m.\u001b[0m\u001b[0mjson\u001b[0m\u001b[0;34m(\u001b[0m\u001b[0;34m)\u001b[0m\u001b[0;34m\u001b[0m\u001b[0;34m\u001b[0m\u001b[0m\n\u001b[0;32m----> 7\u001b[0;31m     \u001b[0;32mwith\u001b[0m \u001b[0mopen\u001b[0m\u001b[0;34m(\u001b[0m\u001b[0;34mf\"./data/countries/{country}.json\"\u001b[0m\u001b[0;34m,\u001b[0m \u001b[0;34m\"w\"\u001b[0m\u001b[0;34m)\u001b[0m \u001b[0;32mas\u001b[0m \u001b[0mfile\u001b[0m\u001b[0;34m:\u001b[0m\u001b[0;34m\u001b[0m\u001b[0;34m\u001b[0m\u001b[0m\n\u001b[0m\u001b[1;32m      8\u001b[0m         \u001b[0mjson\u001b[0m\u001b[0;34m.\u001b[0m\u001b[0mdump\u001b[0m\u001b[0;34m(\u001b[0m\u001b[0msummary_url_json\u001b[0m\u001b[0;34m,\u001b[0m \u001b[0mfile\u001b[0m\u001b[0;34m)\u001b[0m\u001b[0;34m\u001b[0m\u001b[0;34m\u001b[0m\u001b[0m\n\u001b[1;32m      9\u001b[0m \u001b[0;34m\u001b[0m\u001b[0m\n",
      "\u001b[0;31mFileNotFoundError\u001b[0m: [Errno 2] No such file or directory: './data/countries/belize.json'"
     ]
    }
   ],
   "metadata": {}
  },
  {
   "cell_type": "code",
   "execution_count": 120,
   "source": [
    "import datetime"
   ],
   "outputs": [],
   "metadata": {}
  },
  {
   "cell_type": "code",
   "execution_count": 121,
   "source": [
    "day1 = datetime.date.today()\n",
    "time_lag_for_data_obtained = 1"
   ],
   "outputs": [],
   "metadata": {}
  },
  {
   "cell_type": "code",
   "execution_count": 122,
   "source": [
    "if day1.month < 10:\n",
    "    today = f\"{day1.year}-0{day1.month-time_lag_for_data_obtained}-{day1.day}\"\n",
    "else:\n",
    "    today = f\"{day1.year}-{day1.month}-{day1.day}\"\n",
    "print(today)\n",
    "\n",
    "country = \"india\"\n"
   ],
   "outputs": [
    {
     "output_type": "stream",
     "name": "stdout",
     "text": [
      "2021-07-14\n"
     ]
    }
   ],
   "metadata": {}
  },
  {
   "cell_type": "code",
   "execution_count": 123,
   "source": [
    "specific_date_url = f\"https://api.covid19api.com/live/country/{country}/status/confirmed/date/{today}T00:00:00Z\""
   ],
   "outputs": [],
   "metadata": {}
  },
  {
   "cell_type": "code",
   "execution_count": 124,
   "source": [
    "specific_date_url"
   ],
   "outputs": [
    {
     "output_type": "execute_result",
     "data": {
      "text/plain": [
       "'https://api.covid19api.com/live/country/india/status/confirmed/date/2021-07-14T00:00:00Z'"
      ]
     },
     "metadata": {},
     "execution_count": 124
    }
   ],
   "metadata": {}
  },
  {
   "cell_type": "code",
   "execution_count": 125,
   "source": [
    "country_cases(country, specific_date_url)"
   ],
   "outputs": [
    {
     "output_type": "error",
     "ename": "TypeError",
     "evalue": "country_cases() takes 1 positional argument but 2 were given",
     "traceback": [
      "\u001b[0;31m---------------------------------------------------------------------------\u001b[0m",
      "\u001b[0;31mTypeError\u001b[0m                                 Traceback (most recent call last)",
      "\u001b[0;32m<ipython-input-125-38930e06f0c3>\u001b[0m in \u001b[0;36m<module>\u001b[0;34m\u001b[0m\n\u001b[0;32m----> 1\u001b[0;31m \u001b[0mcountry_cases\u001b[0m\u001b[0;34m(\u001b[0m\u001b[0mcountry\u001b[0m\u001b[0;34m,\u001b[0m \u001b[0mspecific_date_url\u001b[0m\u001b[0;34m)\u001b[0m\u001b[0;34m\u001b[0m\u001b[0;34m\u001b[0m\u001b[0m\n\u001b[0m",
      "\u001b[0;31mTypeError\u001b[0m: country_cases() takes 1 positional argument but 2 were given"
     ]
    }
   ],
   "metadata": {}
  },
  {
   "cell_type": "code",
   "execution_count": null,
   "source": [],
   "outputs": [],
   "metadata": {}
  }
 ],
 "metadata": {
  "orig_nbformat": 4,
  "language_info": {
   "name": "python",
   "version": "3.9.5",
   "mimetype": "text/x-python",
   "codemirror_mode": {
    "name": "ipython",
    "version": 3
   },
   "pygments_lexer": "ipython3",
   "nbconvert_exporter": "python",
   "file_extension": ".py"
  },
  "kernelspec": {
   "name": "python3",
   "display_name": "Python 3.9.5 64-bit ('pyenv': conda)"
  },
  "interpreter": {
   "hash": "203f065a1e8783256caf71292b1007c421a77cde497ceb50e715b4475efa57a1"
  }
 },
 "nbformat": 4,
 "nbformat_minor": 2
}