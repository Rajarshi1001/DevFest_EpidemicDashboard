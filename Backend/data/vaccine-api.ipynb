{
 "cells": [
  {
   "cell_type": "code",
   "execution_count": 1,
   "source": [
    "import requests"
   ],
   "outputs": [],
   "metadata": {}
  },
  {
   "cell_type": "code",
   "execution_count": 2,
   "source": [
    "vaccine_json_url = \"https://covid19.who.int/page-data/sq/d/3990568020.json\""
   ],
   "outputs": [],
   "metadata": {}
  },
  {
   "cell_type": "code",
   "execution_count": 3,
   "source": [
    "request = requests.get(vaccine_json_url)"
   ],
   "outputs": [],
   "metadata": {}
  },
  {
   "cell_type": "code",
   "execution_count": 4,
   "source": [
    "request"
   ],
   "outputs": [
    {
     "output_type": "execute_result",
     "data": {
      "text/plain": [
       "<Response [200]>"
      ]
     },
     "metadata": {},
     "execution_count": 4
    }
   ],
   "metadata": {}
  },
  {
   "cell_type": "code",
   "execution_count": 6,
   "source": [
    "vaccine_json = request.json()"
   ],
   "outputs": [],
   "metadata": {}
  },
  {
   "cell_type": "code",
   "execution_count": 15,
   "source": [
    "vaccine_json[\"data\"][\"allContentfulVaccines\"][\"nodes\"]"
   ],
   "outputs": [
    {
     "output_type": "execute_result",
     "data": {
      "text/plain": [
       "[{'vaccine': [{'label': 'Anhui ZL - Recombinant', 'value': 'Anhui ZL'},\n",
       "   {'label': 'AstraZeneca - Vaxzevria', 'value': 'AstraZeneca'},\n",
       "   {'label': 'Beijing CNBG - BBIBP-CorV', 'value': 'Beijing'},\n",
       "   {'label': 'Bharat - Covaxin', 'value': 'Covaxin'},\n",
       "   {'label': 'CanSino - Convidecia', 'value': 'CanSino'},\n",
       "   {'label': 'CIGB - CIGB-66', 'value': 'Abdala'},\n",
       "   {'label': 'Finlay - FINLAY-FR ', 'value': 'Soberana02'},\n",
       "   {'label': 'Gamaleya - Gam-Covid-Vac', 'value': 'Gamaleya'},\n",
       "   {'label': 'Janssen - Ad26.COV 2-S', 'value': 'Janssen'},\n",
       "   {'label': 'Moderna - mRNA-1273', 'value': 'Moderna'},\n",
       "   {'label': 'Novavax - Covavax', 'value': 'Novavax'},\n",
       "   {'label': 'Pfizer BioNTech - Comirnaty', 'value': 'Pfizer'},\n",
       "   {'label': 'RIBSP - QazVac', 'value': 'RIBSP'},\n",
       "   {'label': 'SII - Covishield', 'value': 'Covishield'},\n",
       "   {'label': 'Sinovac - CoronaVac', 'value': 'Sinovac'},\n",
       "   {'label': 'SRCVB - EpiVacCorona', 'value': 'EpiVacCorona'},\n",
       "   {'label': 'Wuhan CNBG - Inactivated', 'value': 'Wuhan'}]}]"
      ]
     },
     "metadata": {},
     "execution_count": 15
    }
   ],
   "metadata": {}
  },
  {
   "cell_type": "code",
   "execution_count": null,
   "source": [],
   "outputs": [],
   "metadata": {}
  }
 ],
 "metadata": {
  "orig_nbformat": 4,
  "language_info": {
   "name": "python",
   "version": "3.9.5",
   "mimetype": "text/x-python",
   "codemirror_mode": {
    "name": "ipython",
    "version": 3
   },
   "pygments_lexer": "ipython3",
   "nbconvert_exporter": "python",
   "file_extension": ".py"
  },
  "kernelspec": {
   "name": "python3",
   "display_name": "Python 3.9.5 64-bit ('pyenv': conda)"
  },
  "interpreter": {
   "hash": "203f065a1e8783256caf71292b1007c421a77cde497ceb50e715b4475efa57a1"
  }
 },
 "nbformat": 4,
 "nbformat_minor": 2
}