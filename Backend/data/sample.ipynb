{
 "cells": [
  {
   "cell_type": "code",
   "execution_count": 20,
   "source": [
    "import requests\n",
    "import json"
   ],
   "outputs": [],
   "metadata": {}
  },
  {
   "cell_type": "code",
   "execution_count": 21,
   "source": [
    "base_url = \"https://api.covid19api.com/\"\n",
    "countries_url = 'https://api.covid19api.com/countries'"
   ],
   "outputs": [],
   "metadata": {}
  },
  {
   "cell_type": "code",
   "execution_count": 22,
   "source": [
    "\"\"\"\n",
    "For getting all country parameters\n",
    "\"\"\"\n",
    "country_url_params=[]\n",
    "countries = requests.get(countries_url).json()\n",
    "for c in countries:\n",
    "    name = c[\"Slug\"]\n",
    "    country_url_params.append(name)\n",
    "\n",
    "country_url_params"
   ],
   "outputs": [],
   "metadata": {}
  },
  {
   "cell_type": "code",
   "execution_count": null,
   "source": [
    "def country_cases(country):\n",
    "    \"\"\"\n",
    "    Creating json file for a specific country with timestamps\n",
    "    \"\"\"\n",
    "    url=f\"https://api.covid19api.com/country/{country}\"\n",
    "    summary_url_json = requests.get(url).json()\n",
    "    with open(f\"./countries/{country}.json\", \"w\") as file:\n",
    "        json.dump(summary_url_json, file)"
   ],
   "outputs": [],
   "metadata": {}
  },
  {
   "cell_type": "code",
   "execution_count": null,
   "source": [
    "for country_param in country_url_params[0:5]:\n",
    "    country_cases(country_param)"
   ],
   "outputs": [],
   "metadata": {}
  }
 ],
 "metadata": {
  "orig_nbformat": 4,
  "language_info": {
   "name": "python",
   "version": "3.9.5",
   "mimetype": "text/x-python",
   "codemirror_mode": {
    "name": "ipython",
    "version": 3
   },
   "pygments_lexer": "ipython3",
   "nbconvert_exporter": "python",
   "file_extension": ".py"
  },
  "kernelspec": {
   "name": "python3",
   "display_name": "Python 3.9.5 64-bit ('pyenv': conda)"
  },
  "interpreter": {
   "hash": "203f065a1e8783256caf71292b1007c421a77cde497ceb50e715b4475efa57a1"
  }
 },
 "nbformat": 4,
 "nbformat_minor": 2
}